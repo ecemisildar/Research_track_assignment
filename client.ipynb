{
 "cells": [
  {
   "cell_type": "code",
   "execution_count": 1,
   "metadata": {
    "scrolled": true
   },
   "outputs": [
    {
     "data": {
      "application/vnd.jupyter.widget-view+json": {
       "model_id": "53910d9e2e6b42cabb1f5675f3452c86",
       "version_major": 2,
       "version_minor": 0
      },
      "text/plain": [
       "Button(description='Set', style=ButtonStyle())"
      ]
     },
     "metadata": {},
     "output_type": "display_data"
    },
    {
     "data": {
      "application/vnd.jupyter.widget-view+json": {
       "model_id": "7c37234e108a4efb891fb31c3b29f833",
       "version_major": 2,
       "version_minor": 0
      },
      "text/plain": [
       "Button(description='Cancel', style=ButtonStyle())"
      ]
     },
     "metadata": {},
     "output_type": "display_data"
    },
    {
     "data": {
      "application/vnd.jupyter.widget-view+json": {
       "model_id": "6c42821dcca645ff8773116b0b3e2b9a",
       "version_major": 2,
       "version_minor": 0
      },
      "text/plain": [
       "FloatText(value=0.0, description='X:')"
      ]
     },
     "metadata": {},
     "output_type": "display_data"
    },
    {
     "data": {
      "application/vnd.jupyter.widget-view+json": {
       "model_id": "7a095211c98546ab8b5f9558574d0482",
       "version_major": 2,
       "version_minor": 0
      },
      "text/plain": [
       "FloatText(value=0.0, description='Y:')"
      ]
     },
     "metadata": {},
     "output_type": "display_data"
    }
   ],
   "source": [
    "#import jupyros as jr\n",
    "import rospy\n",
    "import actionlib\n",
    "import actionlib.msg\n",
    "from assignment_2_2022.msg import PlanningAction, PlanningGoal \n",
    "import ipywidgets as widgets\n",
    "import time\n",
    "\n",
    "\n",
    "\n",
    "def cancel(x):\n",
    "    \"\"\"\n",
    "    Cancel all active goals\n",
    "    \"\"\"\n",
    "    client.cancel_goal()\n",
    "\n",
    "def go(x):\n",
    "    \"\"\"\n",
    "    Prompt the user to enter the x and y coordinates of the goal point, \n",
    "    and then send the goal to the action server\n",
    "    \"\"\"\n",
    "    # Assign the x and y positions as the target position of the goal\n",
    "    goal = PlanningGoal()\n",
    "    goal.target_pose.pose.position.x = goal_x.value\n",
    "    goal.target_pose.pose.position.y = goal_y.value\n",
    "\n",
    "    # Send the goal to the action server\n",
    "    client.send_goal(goal)\n",
    "\n",
    "\n",
    "    \n",
    "        \n",
    "\t\n",
    "time.sleep(2)\n",
    "# Initialize the node\n",
    "rospy.init_node('client')\n",
    "\n",
    "\n",
    "client = actionlib.SimpleActionClient('/reaching_goal', PlanningAction)\n",
    "client.wait_for_server() #maybe comment\n",
    "\n",
    "goal_x = 0.0\n",
    "goal_y = 0.0\n",
    "\n",
    "set_goal = widgets.Button(\n",
    "    value = False,\n",
    "    description = 'Set',\n",
    "    button_style = '', # 'success', 'info', 'warning', 'danger' or ''\n",
    "    disabled = False,\n",
    "    )\n",
    "\n",
    "set_goal.on_click(go)\n",
    "\n",
    "cancel_goal = widgets.Button(\n",
    "value = False,\n",
    "description = 'Cancel',\n",
    "button_style = '', # 'success', 'info', 'warning', 'danger' or ''\n",
    "disabled = False,\n",
    ")\n",
    "\n",
    "cancel_goal.on_click(cancel)\n",
    "\n",
    "goal_x = widgets.FloatText(\n",
    "description = 'X:',\n",
    "disabled = False,\n",
    ")\n",
    "\n",
    "goal_y = widgets.FloatText(\n",
    "description = 'Y:',\n",
    "disabled = False,\n",
    ")\n",
    "\n",
    "display(set_goal, cancel_goal, goal_x, goal_y)"
   ]
  },
  {
   "cell_type": "code",
   "execution_count": null,
   "metadata": {},
   "outputs": [],
   "source": []
  },
  {
   "cell_type": "code",
   "execution_count": null,
   "metadata": {},
   "outputs": [],
   "source": []
  }
 ],
 "metadata": {
  "kernelspec": {
   "display_name": "Python 3 (ipykernel)",
   "language": "python",
   "name": "python3"
  },
  "language_info": {
   "codemirror_mode": {
    "name": "ipython",
    "version": 3
   },
   "file_extension": ".py",
   "mimetype": "text/x-python",
   "name": "python",
   "nbconvert_exporter": "python",
   "pygments_lexer": "ipython3",
   "version": "3.8.10"
  }
 },
 "nbformat": 4,
 "nbformat_minor": 2
}
