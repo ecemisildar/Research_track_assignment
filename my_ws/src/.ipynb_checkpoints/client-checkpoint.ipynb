{
 "cells": [
  {
   "cell_type": "code",
   "execution_count": 1,
   "metadata": {
    "scrolled": true
   },
   "outputs": [
    {
     "ename": "ModuleNotFoundError",
     "evalue": "No module named 'rospy'",
     "output_type": "error",
     "traceback": [
      "\u001b[0;31m---------------------------------------------------------------------------\u001b[0m",
      "\u001b[0;31mModuleNotFoundError\u001b[0m                       Traceback (most recent call last)",
      "\u001b[0;32m<ipython-input-1-dd7388b2e858>\u001b[0m in \u001b[0;36m<module>\u001b[0;34m\u001b[0m\n\u001b[1;32m      1\u001b[0m \u001b[0;31m#import jupyros as jr\u001b[0m\u001b[0;34m\u001b[0m\u001b[0;34m\u001b[0m\u001b[0;34m\u001b[0m\u001b[0m\n\u001b[0;32m----> 2\u001b[0;31m \u001b[0;32mimport\u001b[0m \u001b[0mrospy\u001b[0m\u001b[0;34m\u001b[0m\u001b[0;34m\u001b[0m\u001b[0m\n\u001b[0m\u001b[1;32m      3\u001b[0m \u001b[0;32mimport\u001b[0m \u001b[0mactionlib\u001b[0m\u001b[0;34m\u001b[0m\u001b[0;34m\u001b[0m\u001b[0m\n\u001b[1;32m      4\u001b[0m \u001b[0;32mimport\u001b[0m \u001b[0mactionlib\u001b[0m\u001b[0;34m.\u001b[0m\u001b[0mmsg\u001b[0m\u001b[0;34m\u001b[0m\u001b[0;34m\u001b[0m\u001b[0m\n\u001b[1;32m      5\u001b[0m \u001b[0;32mfrom\u001b[0m \u001b[0massignment_2_2022\u001b[0m\u001b[0;34m.\u001b[0m\u001b[0mmsg\u001b[0m \u001b[0;32mimport\u001b[0m \u001b[0mPlanningAction\u001b[0m\u001b[0;34m,\u001b[0m \u001b[0mPlanningGoal\u001b[0m\u001b[0;34m\u001b[0m\u001b[0;34m\u001b[0m\u001b[0m\n",
      "\u001b[0;31mModuleNotFoundError\u001b[0m: No module named 'rospy'"
     ]
    }
   ],
   "source": [
    "#import jupyros as jr\n",
    "import rospy\n",
    "import actionlib\n",
    "import actionlib.msg\n",
    "from assignment_2_2022.msg import PlanningAction, PlanningGoal \n",
    "import ipywidgets as widgets\n",
    "import time\n",
    "\n",
    "\n",
    "\n",
    "def cancel(x):\n",
    "    \"\"\"\n",
    "    Cancel all active goals\n",
    "    \"\"\"\n",
    "    client.cancel_goal()\n",
    "\n",
    "def go(x):\n",
    "    \"\"\"\n",
    "    Prompt the user to enter the x and y coordinates of the goal point, \n",
    "    and then send the goal to the action server\n",
    "    \"\"\"\n",
    "    # Assign the x and y positions as the target position of the goal\n",
    "    goal = PlanningGoal()\n",
    "    goal.target_pose.pose.position.x = goal_x.value\n",
    "    goal.target_pose.pose.position.y = goal_y.value\n",
    "\n",
    "    # Send the goal to the action server\n",
    "    client.send_goal(goal)\n",
    "\n",
    "\n",
    "    \n",
    "        \n",
    "\t\n",
    "time.sleep(2)\n",
    "# Initialize the node\n",
    "rospy.init_node('client')\n",
    "\n",
    "\n",
    "client = actionlib.SimpleActionClient('/reaching_goal', PlanningAction)\n",
    "client.wait_for_server() #maybe comment\n",
    "\n",
    "goal_x = 0.0\n",
    "goal_y = 0.0\n",
    "\n",
    "set_goal = widgets.Button(\n",
    "    value = False,\n",
    "    description = 'Set',\n",
    "    button_style = '', # 'success', 'info', 'warning', 'danger' or ''\n",
    "    disabled = False,\n",
    "    )\n",
    "\n",
    "set_goal.on_click(go)\n",
    "\n",
    "cancel_goal = widgets.Button(\n",
    "value = False,\n",
    "description = 'Cancel',\n",
    "button_style = '', # 'success', 'info', 'warning', 'danger' or ''\n",
    "disabled = False,\n",
    ")\n",
    "\n",
    "cancel_goal.on_click(cancel)\n",
    "\n",
    "goal_x = widgets.FloatText(\n",
    "description = 'X:',\n",
    "disabled = False,\n",
    ")\n",
    "\n",
    "goal_y = widgets.FloatText(\n",
    "description = 'Y:',\n",
    "disabled = False,\n",
    ")\n",
    "\n",
    "display(set_goal, cancel_goal, goal_x, goal_y)"
   ]
  },
  {
   "cell_type": "code",
   "execution_count": null,
   "metadata": {},
   "outputs": [],
   "source": []
  },
  {
   "cell_type": "code",
   "execution_count": null,
   "metadata": {},
   "outputs": [],
   "source": []
  }
 ],
 "metadata": {
  "kernelspec": {
   "display_name": "Python 3",
   "language": "python",
   "name": "python3"
  },
  "language_info": {
   "codemirror_mode": {
    "name": "ipython",
    "version": 3
   },
   "file_extension": ".py",
   "mimetype": "text/x-python",
   "name": "python",
   "nbconvert_exporter": "python",
   "pygments_lexer": "ipython3",
   "version": "3.7.3"
  }
 },
 "nbformat": 4,
 "nbformat_minor": 2
}
